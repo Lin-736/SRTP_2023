{
 "cells": [
  {
   "cell_type": "code",
   "execution_count": 2,
   "id": "51416eaf",
   "metadata": {},
   "outputs": [
    {
     "name": "stdout",
     "output_type": "stream",
     "text": [
      "Epoch [0/100000], Loss: 672981.5000\n",
      "Epoch [5000/100000], Loss: 6689.2661\n",
      "Epoch [10000/100000], Loss: 3804.2456\n",
      "Epoch [15000/100000], Loss: 3505.7178\n",
      "Epoch [20000/100000], Loss: 3390.3486\n",
      "Epoch [25000/100000], Loss: 3337.3218\n",
      "Epoch [30000/100000], Loss: 3312.2268\n",
      "Epoch [35000/100000], Loss: 2310.0671\n",
      "Epoch [40000/100000], Loss: 716.5570\n",
      "Epoch [45000/100000], Loss: 647.6216\n",
      "Epoch [50000/100000], Loss: 598.9584\n",
      "Epoch [55000/100000], Loss: 529.6439\n",
      "Epoch [60000/100000], Loss: 485.4795\n",
      "Epoch [65000/100000], Loss: 406.6359\n",
      "Epoch [70000/100000], Loss: 407.7874\n",
      "Epoch [75000/100000], Loss: 352.5939\n",
      "Epoch [80000/100000], Loss: 326.4161\n",
      "Epoch [85000/100000], Loss: 320.1700\n",
      "Epoch [90000/100000], Loss: 321.4089\n",
      "Epoch [95000/100000], Loss: 276.7567\n",
      "Epoch [100000/100000], Loss: 265.1232\n"
     ]
    }
   ],
   "source": [
    "import torch\n",
    "import torch.nn as nn\n",
    "import torch.optim as optim\n",
    "import numpy as np\n",
    "import pandas as pd\n",
    "\n",
    "# 读取训练集数据\n",
    "train_data = pd.read_csv('data.csv')\n",
    "\n",
    "# 将自变量和因变量分开\n",
    "train_x = train_data.iloc[:, :-1].values\n",
    "train_y = train_data.iloc[:, -1].values\n",
    "\n",
    "# 将数据转换为PyTorch所需的张量格式\n",
    "train_x = torch.tensor(train_x, dtype=torch.float32)\n",
    "train_y = torch.tensor(train_y, dtype=torch.float32)\n",
    "\n",
    "# 定义一个简单的神经网络模型\n",
    "class Net(nn.Module):\n",
    "    def __init__(self):\n",
    "        super(Net, self).__init__()\n",
    "        self.fc1 = nn.Linear(4, 10)\n",
    "        self.fc2 = nn.Linear(10, 1)\n",
    "\n",
    "    def forward(self, x):\n",
    "        x = torch.relu(self.fc1(x))\n",
    "        x = self.fc2(x)\n",
    "        return x\n",
    "\n",
    "# 创建模型实例并定义优化器和损失函数\n",
    "net = Net()\n",
    "optimizer = optim.Adam(net.parameters(), lr=0.01)\n",
    "criterion = nn.MSELoss()\n",
    "\n",
    "# 训练模型\n",
    "for epoch in range(100001):\n",
    "    # 将输入数据输入模型进行预测\n",
    "    output = net(train_x)\n",
    "    \n",
    "    # 计算预测值与实际值之间的误差\n",
    "    loss = criterion(output, train_y.unsqueeze(1))\n",
    "    \n",
    "    # 清空梯度并进行反向传播\n",
    "    optimizer.zero_grad()\n",
    "    loss.backward()\n",
    "    \n",
    "    # 更新模型参数\n",
    "    optimizer.step()\n",
    "    \n",
    "    # 每隔5000个epoch输出一次误差\n",
    "    if (epoch) % 5000 == 0:\n",
    "        print('Epoch [{}/{}], Loss: {:.4f}'.format(epoch, 100000, loss.item()))\n"
   ]
  },
  {
   "cell_type": "code",
   "execution_count": 1,
   "id": "ff15134f",
   "metadata": {},
   "outputs": [
    {
     "ename": "NameError",
     "evalue": "name 'np' is not defined",
     "output_type": "error",
     "traceback": [
      "\u001b[1;31m---------------------------------------------------------------------------\u001b[0m",
      "\u001b[1;31mNameError\u001b[0m                                 Traceback (most recent call last)",
      "Cell \u001b[1;32mIn[1], line 1\u001b[0m\n\u001b[1;32m----> 1\u001b[0m X_test \u001b[38;5;241m=\u001b[39m \u001b[43mnp\u001b[49m\u001b[38;5;241m.\u001b[39marray([\u001b[38;5;241m1\u001b[39m, \u001b[38;5;241m200\u001b[39m, \u001b[38;5;241m3\u001b[39m, \u001b[38;5;241m1\u001b[39m])\n\u001b[0;32m      2\u001b[0m X_test \u001b[38;5;241m=\u001b[39m torch\u001b[38;5;241m.\u001b[39mtensor(X_test, dtype\u001b[38;5;241m=\u001b[39mtorch\u001b[38;5;241m.\u001b[39mfloat32)\n\u001b[0;32m      3\u001b[0m y_pred \u001b[38;5;241m=\u001b[39m net\u001b[38;5;241m.\u001b[39mforward(X_test)\n",
      "\u001b[1;31mNameError\u001b[0m: name 'np' is not defined"
     ]
    }
   ],
   "source": [
    "X_test = np.array([1, 200, 3, 1])\n",
    "X_test = torch.tensor(X_test, dtype=torch.float32)\n",
    "y_pred = net.forward(X_test)\n",
    "print(y_pred)"
   ]
  }
 ],
 "metadata": {
  "kernelspec": {
   "display_name": "Python 3 (ipykernel)",
   "language": "python",
   "name": "python3"
  },
  "language_info": {
   "codemirror_mode": {
    "name": "ipython",
    "version": 3
   },
   "file_extension": ".py",
   "mimetype": "text/x-python",
   "name": "python",
   "nbconvert_exporter": "python",
   "pygments_lexer": "ipython3",
   "version": "3.10.9"
  }
 },
 "nbformat": 4,
 "nbformat_minor": 5
}
