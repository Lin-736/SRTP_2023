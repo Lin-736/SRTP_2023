{
 "cells": [
  {
   "cell_type": "code",
   "execution_count": 3,
   "id": "35c03bd7",
   "metadata": {},
   "outputs": [],
   "source": [
    "import numpy as np\n",
    "import pandas as pd"
   ]
  },
  {
   "cell_type": "code",
   "execution_count": 4,
   "id": "dec2aa3a",
   "metadata": {},
   "outputs": [],
   "source": [
    "# tanh\n",
    "def tanh(x):\n",
    "    return np.tanh(x)"
   ]
  },
  {
   "cell_type": "code",
   "execution_count": 9,
   "id": "16091afe",
   "metadata": {},
   "outputs": [],
   "source": [
    "def relu(Z):\n",
    "    return np.maximum(0, Z)\n",
    "\n",
    "def relu_derivative(Z):\n",
    "    return (Z > 0).astype(int)"
   ]
  },
  {
   "cell_type": "code",
   "execution_count": 10,
   "id": "5ef911f2",
   "metadata": {},
   "outputs": [],
   "source": [
    "class NeuralNetwork:\n",
    "    def __init__(self, input_size, hidden_size1, hidden_size2, hidden_size3, output_size):\n",
    "        # init\n",
    "        self.W1 = np.random.randn(input_size, hidden_size1)\n",
    "        self.b1 = np.random.randn(hidden_size1)\n",
    "        self.W2 = np.random.randn(hidden_size1, hidden_size2)\n",
    "        self.b2 = np.random.randn(hidden_size2)\n",
    "        self.W3 = np.random.randn(hidden_size2, hidden_size3)\n",
    "        self.b3 = np.random.randn(hidden_size3)\n",
    "        self.W4 = np.random.randn(hidden_size3, output_size)\n",
    "        self.b4 = np.random.randn(output_size)\n",
    "\n",
    "    def forward(self, X):\n",
    "        # forward p\n",
    "        Z1 = np.dot(X, self.W1) + self.b1\n",
    "        A1 = np.tanh(Z1)\n",
    "        Z2 = np.dot(A1, self.W2) + self.b2\n",
    "        A2 = np.tanh(Z2)\n",
    "        Z3 = np.dot(A2, self.W3) + self.b3\n",
    "        A3 = relu(Z3)\n",
    "        Z4 = np.dot(A3, self.W4) + self.b4\n",
    "        return Z4\n",
    "\n",
    "    def train(self, X, y, learning_rate=0.01, max_epochs=1000):\n",
    "        # train\n",
    "        for epoch in range(max_epochs):\n",
    "            # forward\n",
    "            Z1 = np.dot(X, self.W1) + self.b1\n",
    "            A1 = np.tanh(Z1)\n",
    "            Z2 = np.dot(A1, self.W2) + self.b2\n",
    "            A2 = np.tanh(Z2)\n",
    "            Z3 = np.dot(A2, self.W3) + self.b3\n",
    "            A3 = relu(Z3)\n",
    "            Z4 = np.dot(A3, self.W4) + self.b4\n",
    "\n",
    "            # loss\n",
    "            loss = np.mean((Z4 - y) ** 2)\n",
    "\n",
    "            # back p\n",
    "            dZ4 = Z4 - y\n",
    "            dW4 = np.dot(A3.T, dZ4)\n",
    "            db4 = np.sum(dZ4, axis=0)\n",
    "            dA3 = np.dot(dZ4, self.W4.T)\n",
    "            dZ3 = dA3 * relu_derivative(Z3)\n",
    "            dW3 = np.dot(A2.T, dZ3)\n",
    "            db3 = np.sum(dZ3, axis=0)\n",
    "            dA2 = np.dot(dZ3, self.W3.T)\n",
    "            dZ2 = dA2 * (1 - np.tanh(Z2)**2)\n",
    "            dW2 = np.dot(A1.T, dZ2)\n",
    "            db2 = np.sum(dZ2, axis=0)\n",
    "            dA1 = np.dot(dZ2, self.W2.T)\n",
    "            dZ1 = dA1 * (1 - np.tanh(Z1)**2)\n",
    "            dW1 = np.dot(X.T, dZ1)\n",
    "            db1 = np.sum(dZ1, axis=0)\n",
    "\n",
    "            self.W1 -= learning_rate * dW1\n",
    "            self.b1 -= learning_rate * db1\n",
    "            self.W2 -= learning_rate * dW2\n",
    "            self.b2 -= learning_rate * db2\n",
    "            self.W3 -= learning_rate * dW3\n",
    "            self.b3 -= learning_rate * db3\n",
    "            self.W4 -= learning_rate * dW4\n",
    "            self.b4 -= learning_rate * db4\n",
    "            \n",
    "            if epoch % 10000 == 0:\n",
    "                print(\"Epoch %d, Loss = %f\" % (epoch, loss))\n",
    "\n",
    "        return self\n",
    "        \n"
   ]
  },
  {
   "cell_type": "code",
   "execution_count": 11,
   "id": "8ec090b7",
   "metadata": {},
   "outputs": [
    {
     "name": "stdout",
     "output_type": "stream",
     "text": [
      "Epoch 0, Loss = 750682.396019\n",
      "Epoch 10000, Loss = 245075.507615\n",
      "Epoch 20000, Loss = 245075.507615\n",
      "Epoch 30000, Loss = 245075.507615\n",
      "Epoch 40000, Loss = 245075.507615\n",
      "Epoch 50000, Loss = 245075.507615\n",
      "Epoch 60000, Loss = 245075.507615\n",
      "Epoch 70000, Loss = 245075.507615\n",
      "Epoch 80000, Loss = 245075.507615\n",
      "Epoch 90000, Loss = 245075.507615\n"
     ]
    },
    {
     "data": {
      "text/plain": [
       "<__main__.NeuralNetwork at 0x2340e896800>"
      ]
     },
     "execution_count": 11,
     "metadata": {},
     "output_type": "execute_result"
    }
   ],
   "source": [
    "# 创建神经网络模型\n",
    "input_size = 4\n",
    "output_size = 1\n",
    "model = NeuralNetwork(input_size, 10,10,10 ,output_size)\n",
    "\n",
    "# 从 CSV 文件中读取数据\n",
    "df = pd.read_csv('data.csv')\n",
    "\n",
    "# 将自变量和因变量分别存储在 X_train 和 y_train 中\n",
    "X_train = df[['x1', 'x2', 'x3', 'x4']].values\n",
    "y_train = df['y'].values.reshape(-1, 1)\n",
    "\n",
    "# 训练模型\n",
    "model.train(X_train, y_train, learning_rate=0.001, max_epochs=100000)"
   ]
  },
  {
   "cell_type": "code",
   "execution_count": 13,
   "id": "74580f5e",
   "metadata": {},
   "outputs": [
    {
     "name": "stdout",
     "output_type": "stream",
     "text": [
      "[2.97995279]\n"
     ]
    }
   ],
   "source": [
    "# 预测房价\n",
    "X_test = np.array([1, 100, 3, 1])\n",
    "y_pred = model.forward(X_test)\n",
    "rate=y_pred/239.343284\n",
    "print(rate)"
   ]
  }
 ],
 "metadata": {
  "kernelspec": {
   "display_name": "Python 3 (ipykernel)",
   "language": "python",
   "name": "python3"
  },
  "language_info": {
   "codemirror_mode": {
    "name": "ipython",
    "version": 3
   },
   "file_extension": ".py",
   "mimetype": "text/x-python",
   "name": "python",
   "nbconvert_exporter": "python",
   "pygments_lexer": "ipython3",
   "version": "3.10.9"
  }
 },
 "nbformat": 4,
 "nbformat_minor": 5
}
